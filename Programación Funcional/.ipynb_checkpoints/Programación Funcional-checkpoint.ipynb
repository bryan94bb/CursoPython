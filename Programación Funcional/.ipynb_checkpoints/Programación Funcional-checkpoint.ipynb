{
 "cells": [
  {
   "cell_type": "markdown",
   "metadata": {},
   "source": [
    "Programación Funcional"
   ]
  },
  {
   "cell_type": "code",
   "execution_count": 1,
   "metadata": {},
   "outputs": [
    {
     "ename": "TypeError",
     "evalue": "'type' object is not subscriptable",
     "output_type": "error",
     "traceback": [
      "\u001b[1;31m---------------------------------------------------------------------------\u001b[0m",
      "\u001b[1;31mTypeError\u001b[0m                                 Traceback (most recent call last)",
      "\u001b[1;32mc:\\Users\\bryan94bb\\Desktop\\CursoPython2\\Programación Funcional\\Programación Funcional.ipynb Cell 2'\u001b[0m in \u001b[0;36m<cell line: 1>\u001b[1;34m()\u001b[0m\n\u001b[1;32m----> <a href='vscode-notebook-cell:/c%3A/Users/bryan94bb/Desktop/CursoPython2/Programaci%C3%B3n%20Funcional/Programaci%C3%B3n%20Funcional.ipynb#ch0000002?line=0'>1</a>\u001b[0m lista \u001b[39m=\u001b[39m \u001b[39mrange\u001b[39;49m[\u001b[39m0\u001b[39;49m, \u001b[39m10\u001b[39;49m] \n\u001b[0;32m      <a href='vscode-notebook-cell:/c%3A/Users/bryan94bb/Desktop/CursoPython2/Programaci%C3%B3n%20Funcional/Programaci%C3%B3n%20Funcional.ipynb#ch0000002?line=1'>2</a>\u001b[0m \u001b[39mprint\u001b[39m (lista)\n",
      "\u001b[1;31mTypeError\u001b[0m: 'type' object is not subscriptable"
     ]
    }
   ],
   "source": [
    "lista = range[0, 10] \n",
    "print (lista)"
   ]
  },
  {
   "cell_type": "markdown",
   "metadata": {},
   "source": [
    "### 5. List Comprenhension\n",
    "[x 'Expresión para crear lista']\n",
    "[x**2 for x in iterable]"
   ]
  },
  {
   "cell_type": "markdown",
   "metadata": {},
   "source": [
    "1. Creen una lista que tenga todos los números del 1 al 15 elevados al cuadrado"
   ]
  },
  {
   "cell_type": "code",
   "execution_count": 1,
   "metadata": {},
   "outputs": [
    {
     "data": {
      "text/plain": [
       "[0, 1, 4, 9, 16, 25, 36, 49, 64, 81, 100, 121, 144, 169, 196, 225]"
      ]
     },
     "execution_count": 1,
     "metadata": {},
     "output_type": "execute_result"
    }
   ],
   "source": [
    "lista = [x**2 for x in range (16)]\n",
    "lista"
   ]
  },
  {
   "cell_type": "markdown",
   "metadata": {},
   "source": []
  },
  {
   "cell_type": "markdown",
   "metadata": {},
   "source": []
  },
  {
   "cell_type": "code",
   "execution_count": 7,
   "metadata": {},
   "outputs": [
    {
     "data": {
      "text/plain": [
       "[0, 1, 4, 9, 16, 25, 36, 49, 64, 81, 100, 121, 144, 169, 196, 225]"
      ]
     },
     "execution_count": 7,
     "metadata": {},
     "output_type": "execute_result"
    }
   ],
   "source": [
    "    listaC = [8, 7, 12, 16, 85]\n",
    "    listaD = [4, 4, 8, 26, 1]\n",
    "    listaE = [x+y for x in listaC for y in listaB]\n",
    "    listaE\n",
    "    Lista = [x*y for x in listaC for y in listaB]\n",
    "    lista"
   ]
  },
  {
   "cell_type": "code",
   "execution_count": 10,
   "metadata": {},
   "outputs": [
    {
     "data": {
      "text/plain": [
       "[12, 11, 20, 42, 86]"
      ]
     },
     "execution_count": 10,
     "metadata": {},
     "output_type": "execute_result"
    }
   ],
   "source": [
    "listaF = [listaC[i]+ listaD[i] for i in range(len(listaC))]\n",
    "listaF"
   ]
  },
  {
   "cell_type": "markdown",
   "metadata": {},
   "source": [
    "3. Sumar dos elementos de la misma posición"
   ]
  },
  {
   "cell_type": "markdown",
   "metadata": {},
   "source": [
    "6. Exce y eval"
   ]
  },
  {
   "cell_type": "code",
   "execution_count": 14,
   "metadata": {},
   "outputs": [
    {
     "data": {
      "text/plain": [
       "125"
      ]
     },
     "execution_count": 14,
     "metadata": {},
     "output_type": "execute_result"
    }
   ],
   "source": [
    "valores={'y': 100}\n",
    "exec ('x= y+25', valores)\n",
    "valores['x']\n",
    "\n"
   ]
  },
  {
   "cell_type": "markdown",
   "metadata": {},
   "source": [
    "Decoradores: Es una función que devuelve otra función"
   ]
  },
  {
   "cell_type": "code",
   "execution_count": null,
   "metadata": {},
   "outputs": [],
   "source": [
    "def saludar ():\n",
    "    def hablar():\n",
    "        return 'Hola'\n",
    "    return hablar"
   ]
  },
  {
   "cell_type": "markdown",
   "metadata": {},
   "source": [
    "Ejercicios"
   ]
  },
  {
   "cell_type": "markdown",
   "metadata": {},
   "source": [
    "Dadas las listas C y D, cree una lista donde se calcule (x**y+89.5)**x-25\n",
    "listaC = [8, 7, 12, 16, 85]\n",
    "listaD = [4, 4, 8, 26, 1]\n"
   ]
  },
  {
   "cell_type": "code",
   "execution_count": null,
   "metadata": {},
   "outputs": [],
   "source": [
    "listaC = [8, 7, 12, 16, 85]\n",
    "listaD = [4, 4, 8, 26, 1]\n",
    "\n",
    "listaF = [listaC[i]+ listaD[i] for i in range(len(listaC))]\n",
    "listaF"
   ]
  }
 ],
 "metadata": {
  "interpreter": {
   "hash": "f2cadb290e719a4e452269ccf455e6cd1c32641935f069fdec6fded335372f22"
  },
  "kernelspec": {
   "display_name": "Python 3 (ipykernel)",
   "language": "python",
   "name": "python3"
  },
  "language_info": {
   "codemirror_mode": {
    "name": "ipython",
    "version": 3
   },
   "file_extension": ".py",
   "mimetype": "text/x-python",
   "name": "python",
   "nbconvert_exporter": "python",
   "pygments_lexer": "ipython3",
   "version": "3.8.10"
  }
 },
 "nbformat": 4,
 "nbformat_minor": 2
}
